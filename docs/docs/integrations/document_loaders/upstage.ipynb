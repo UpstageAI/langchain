{
 "cells": [
  {
   "cell_type": "markdown",
   "metadata": {},
   "source": [
    "# UpstageDocumentLoader\n",
    "\n",
    "The `UpstageDocumentLoader` is a class in Python that is used to load documents using the Upstage API. This class inherits from the `BaseLoader` class.\n",
    "\n",
    "## Usage\n",
    "\n",
    "To use the `UpstageDocumentLoader`, you need to provide a file path, output type, split type, and API key when creating an instance of the class.\n",
    "\n"
   ]
  },
  {
   "cell_type": "markdown",
   "metadata": {},
   "source": [
    "``` python\n",
    "loader = UpstageDocumentLoader(file_path, output_type, split, api_key)\n",
    "```"
   ]
  },
  {
   "cell_type": "markdown",
   "metadata": {},
   "source": [
    "\n",
    "\n",
    "To load a document, call the `load` method. This method returns a list of `Document` objects that contain the loaded data.\n",
    "\n"
   ]
  },
  {
   "cell_type": "markdown",
   "metadata": {},
   "source": [
    "```python\n",
    "documents = loader.load()\n",
    "```"
   ]
  },
  {
   "cell_type": "markdown",
   "metadata": {},
   "source": [
    "\n",
    "\n",
    "With this class, you can easily load and parse documents through the Upstage API."
   ]
  },
  {
   "cell_type": "markdown",
   "metadata": {},
   "source": [
    "## Arguments\n",
    "The `UpstageDocumentLoader` class requires the following arguments when creating an instance:\n",
    "\n",
    "1. `file_path` (str): The path to the file you want to load.\n",
    "2. `output_type` (OutputType): The type of output you want. This should be one of `\"text\"` or `\"html\"`. Possible values are `\"text\"` for text output and `\"html\"` for HTML output.\n",
    "3. `split` (SplitType): How you want to split the document. This should be one of `\"none\"`(default), `\"element\"` or `\"page\"`. Possible values are `\"none\"` for no splitting, `\"element\"` for splitting by element, and `\"page\"` for splitting by page.\n",
    "4. `api_key` (str): Your API key for the Upstage API.\n",
    "\n",
    "Here is an example of how to create an instance of `UpstageDocumentLoader`:\n",
    "\n"
   ]
  },
  {
   "cell_type": "markdown",
   "metadata": {},
   "source": [
    "## Example"
   ]
  },
  {
   "cell_type": "code",
   "execution_count": 1,
   "metadata": {},
   "outputs": [
    {
     "data": {
      "text/plain": [
       "Document(page_content='2021\\narXiv:2103.15348v2 [cs.CV] Jun\\n21', metadata={'page': 1, 'id': 0, 'type': 'text', 'split': 'element'})"
      ]
     },
     "execution_count": 1,
     "metadata": {},
     "output_type": "execute_result"
    }
   ],
   "source": [
    "from langchain_community.document_loaders.upstage import UpstageDocumentLoader\n",
    "\n",
    "api_key = \"your_api_key_here\"\n",
    "file_path = \"/path/to/your/file.pdf\"\n",
    "\n",
    "loader = UpstageDocumentLoader(\n",
    "    file_path=file_path, output_type=\"text\", split=\"element\", api_key=api_key\n",
    ")\n",
    "\n",
    "docs = loader.load()\n",
    "docs[0]"
   ]
  }
 ],
 "metadata": {
  "kernelspec": {
   "display_name": "langchain",
   "language": "python",
   "name": "python3"
  },
  "language_info": {
   "codemirror_mode": {
    "name": "ipython",
    "version": 3
   },
   "file_extension": ".py",
   "mimetype": "text/x-python",
   "name": "python",
   "nbconvert_exporter": "python",
   "pygments_lexer": "ipython3",
   "version": "3.10.14"
  }
 },
 "nbformat": 4,
 "nbformat_minor": 2
}
