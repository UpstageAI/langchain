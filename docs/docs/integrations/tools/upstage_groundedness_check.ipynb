{
 "cells": [
  {
   "cell_type": "raw",
   "id": "99a6719c8eff9f2c",
   "metadata": {
    "collapsed": false
   },
   "source": [
    "---\n",
    "sidebar_label: Upstage\n",
    "---"
   ]
  },
  {
   "cell_type": "markdown",
   "id": "e499673dec883096",
   "metadata": {
    "collapsed": false
   },
   "source": [
    "# Upstage Groundedness Check\n",
    "\n",
    "This notebook covers how to get started with Upstage groundedness check models.\n",
    "\n",
    "## Installation  \n",
    "\n",
    "Install `langchain-upstage` package.\n",
    "\n",
    "```bash\n",
    "pip install -U langchain-upstage\n",
    "```"
   ]
  },
  {
   "cell_type": "markdown",
   "id": "fdcbdec7dbe5164f",
   "metadata": {
    "collapsed": false
   },
   "source": [
    "## Environment Setup\n",
    "\n",
    "Make sure to set the following environment variables:\n",
    "\n",
    "- `UPSTAGE_API_KEY`: Your Upstage API key. Read [Upstage developers document](https://developers.upstage.ai/docs/getting-started/quick-start) to get your API key."
   ]
  },
  {
   "cell_type": "code",
   "execution_count": null,
   "id": "a83d4da0",
   "metadata": {},
   "outputs": [],
   "source": [
    "import os\n",
    "\n",
    "os.environ[\"UPSTAGE_API_KEY\"] = \"YOUR_API_KEY\""
   ]
  },
  {
   "cell_type": "markdown",
   "id": "317fd474",
   "metadata": {},
   "source": [
    "\n",
    "## Usage"
   ]
  },
  {
   "cell_type": "code",
   "execution_count": null,
   "id": "b7373380c01cefbe",
   "metadata": {
    "collapsed": false
   },
   "outputs": [],
   "source": [
    "from langchain_upstage import GroundednessCheck\n",
    "\n",
    "model = GroundednessCheck()"
   ]
  },
  {
   "cell_type": "code",
   "execution_count": null,
   "id": "1e0115e3b511f57",
   "metadata": {
    "collapsed": false
   },
   "outputs": [],
   "source": [
    "model.run({\"context\": \"Hello\", \"assistant_message\": \"Hi\"})"
   ]
  }
 ],
 "metadata": {
  "kernelspec": {
   "display_name": "Python 3",
   "language": "python",
   "name": "python3"
  },
  "language_info": {
   "codemirror_mode": {
    "name": "ipython",
    "version": 2
   },
   "file_extension": ".py",
   "mimetype": "text/x-python",
   "name": "python",
   "nbconvert_exporter": "python",
   "pygments_lexer": "ipython2",
   "version": "2.7.6"
  }
 },
 "nbformat": 4,
 "nbformat_minor": 5
}
